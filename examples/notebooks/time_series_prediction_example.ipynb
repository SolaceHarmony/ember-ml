{
 "cells": [
  {
   "cell_type": "markdown",
   "metadata": {},
   "source": [
    "# Time Series Prediction with Ember ML\n",
    "\n",
    "This notebook demonstrates how to build and train a recurrent neural network (RNN) for time series prediction using the Ember ML framework. We will use a synthetic sine wave dataset as an example and showcase Ember ML's backend-agnostic capabilities."
   ]
  },
  {
   "cell_type": "code",
   "execution_count": null,
   "metadata": {},
   "outputs": [],
   "source": [
    "# Import necessary libraries\n",
    "import numpy as np\n",
    "import matplotlib.pyplot as plt\n",
    "\n",
    "# Import Ember ML components\n",
    "from ember_ml.ops import set_backend\n",
    "from ember_ml.nn import tensor\n",
    "from ember_ml import ops\n",
    "from ember_ml.nn.modules.rnn import GRU # Using GRU as an example RNN\n",
    "from ember_ml.training import Adam, MSELoss # Using Adam optimizer and MSE loss\n",
    "\n",
    "# Set a backend (choose 'numpy', 'torch', or 'mlx')\n",
    "# You can change this to see how the code runs on different backends\n",
    "set_backend('numpy')\n",
    "print(f\"Using backend: {ops.get_backend()}\")"
   ]
  },
  {
   "cell_type": "markdown",
   "metadata": {},
   "source": [
    "## 1. Generate Synthetic Time Series Data\n",
    "\n",
    "We will generate a simple sine wave with some noise to simulate time series data."
   ]
  },
  {
   "cell_type": "code",
   "execution_count": null,
   "metadata": {},
   "outputs": [],
   "source": [
    "def generate_sine_wave_data(num_samples, seq_length, freq=0.05, noise_level=0.1):\n",
    "    \"\"\"Generates synthetic sine wave data.\"\"\"\n",
    "    t = tensor.linspace(0, seq_length * freq * 2 * ops.pi, num_samples * seq_length)\n",
    "    sine_wave = ops.sin(t).reshape(num_samples, seq_length, 1)\n",
    "    noise = np.random.randn(*sine_wave.shape) * noise_level\n",
    "    noisy_sine_wave = sine_wave + noise\n",
    "    \n",
    "    # Create input sequences (X) and target sequences (y)\n",
    "    # Predict the next step in the sequence\n",
    "    X = noisy_sine_wave[:, :-1, :]\n",
    "    y = noisy_sine_wave[:, 1:, :]\n",
    "    \n",
    "    return tensor.convert_to_tensor(X, dtype=tensor.float32), tensor.convert_to_tensor(y, dtype=tensor.float32)\n",
    "\n",
    "# Generate data\n",
    "num_samples = 1000\n",
    "seq_length = 50\n",
    "X_train, y_train = generate_sine_wave_data(num_samples, seq_length)\n",
    "\n",
    "print(f\"Training data shape (X): {tensor.shape(X_train)}\")\n",
    "print(f\"Training data shape (y): {tensor.shape(y_train)}\")"
   ]
  },
  {
   "cell_type": "markdown",
   "metadata": {},
   "source": [
    "## 2. Define the RNN Model\n",
    "\n",
    "We will use a simple GRU model for this prediction task."
   ]
  },
  {
   "cell_type": "code",
   "execution_count": null,
   "metadata": {},
   "outputs": [],
   "source": [
    "# Define model parameters\n",
    "input_size = tensor.shape(X_train)[-1]\n",
    "hidden_size = 32\n",
    "output_size = tensor.shape(y_train)[-1]\n",
    "\n",
    "# Create the GRU model\n",
    "# We set return_sequences=True to predict each step in the sequence\n",
    "model = GRU(input_size=input_size, hidden_size=hidden_size, batch_first=True, return_sequences=True)\n",
    "\n",
    "print(\"Model Architecture:\")\n",
    "print(model)"
   ]
  },
  {
   "cell_type": "markdown",
   "metadata": {},
   "source": [
    "## 3. Set up Training\n",
    "\n",
    "We'll use the Adam optimizer and Mean Squared Error (MSE) loss."
   ]
  },
  {
   "cell_type": "code",
   "execution_count": null,
   "metadata": {},
   "outputs": [],
   "source": [
    "# Create optimizer and loss function\n",
    "learning_rate = 0.01\n",
    "optimizer = Adam(learning_rate=learning_rate)\n",
    "loss_fn = MSELoss()\n",
    "\n",
    "# Get trainable variables from the model\n",
    "trainable_variables = model.trainable_variables\n",
    "\n",
    "print(f\"Number of trainable variables: {len(trainable_variables)}\")"
   ]
  },
  {
   "cell_type": "markdown",
   "metadata": {},
   "source": [
    "## 4. Train the Model\n",
    "\n",
    "We will train the model using a manual training loop, computing gradients and updating weights using the optimizer. Since Ember ML provides `ops.gradients` and optimizer's `apply_gradients`, we can construct a standard training loop."
   ]
  },
  {
   "cell_type": "code",
   "execution_count": null,
   "metadata": {},
   "outputs": [],
   "source": [
    "epochs = 50\n",
    "batch_size = 32\n",
    "\n",
    "print(\"Starting training...\")\n",
    "\n",
    "for epoch in range(epochs):\n",
    "    total_loss = 0\n",
    "    num_batches = 0\n",
    "    \n",
    "    # Iterate over batches\n",
    "    for i in range(0, tensor.shape(X_train)[0], batch_size):\n",
    "        batch_X = X_train[i:i+batch_size]\n",
    "        batch_y = y_train[i:i+batch_size]\n",
    "        \n",
    "        # Forward pass\n",
    "        with ops.GradientTape() as tape:\n",
    "             predictions = model(batch_X)\n",
    "             loss = loss_fn(batch_y, predictions)\n",
    "        \n",
    "        # Compute gradients\n",
    "        gradients = tape.gradient(loss, trainable_variables)\n",
    "        \n",
    "        # Apply gradients\n",
    "        optimizer.apply_gradients(zip(gradients, trainable_variables))\n",
    "        \n",
    "        total_loss = ops.add(total_loss, loss)\n",
    "        num_batches += 1\n",
    "        \n",
    "    avg_loss = ops.divide(total_loss, tensor.convert_to_tensor(num_batches, dtype=tensor.float32))\n",
    "    print(f\"Epoch {epoch+1}/{epochs}, Loss: {tensor.to_numpy(avg_loss):.4f}\")\n",
    "\n",
    "print(\"Training finished.\")"
   ]
  },
  {
   "cell_type": "markdown",
   "metadata": {},
   "source": [
    "## 5. Make Predictions and Visualize\n",
    "\n",
    "Let's use the trained model to make predictions on a sample sequence and visualize the result."
   ]
  },
  {
   "cell_type": "code",
   "execution_count": null,
   "metadata": {},
   "outputs": [],
   "source": [
    "# Take a sample sequence from the training data\n",
    "sample_input_sequence = X_train[0:1]\n",
    "sample_true_sequence = y_train[0:1]\n",
    "\n",
    "# Make a prediction\n",
    "# Set model to evaluation mode (important for layers like Dropout if used)\n",
    "model.eval()\n",
    "predicted_sequence = model(sample_input_sequence)\n",
    "\n",
    "# Convert to NumPy for plotting\n",
    "sample_input_np = tensor.to_numpy(sample_input_sequence).squeeze()\n",
    "sample_true_np = tensor.to_numpy(sample_true_sequence).squeeze()\n",
    "predicted_np = tensor.to_numpy(predicted_sequence).squeeze()\n",
    "\n",
    "# Plot the results\n",
    "plt.figure(figsize=(12, 6))\n",
    "plt.plot(np.arange(tensor.shape(sample_input_sequence)[1]), sample_input_np, label='Input Sequence')\n",
    "plt.plot(np.arange(tensor.shape(sample_input_sequence)[1], tensor.shape(sample_input_sequence)[1] + tensor.shape(sample_true_sequence)[1]), sample_true_np, label='True Future Sequence', color='green')\n",
    "plt.plot(np.arange(tensor.shape(sample_input_sequence)[1], tensor.shape(sample_input_sequence)[1] + tensor.shape(predicted_sequence)[1]), predicted_np, label='Predicted Future Sequence', color='red', linestyle='--')\n",
    "\n",
    "plt.title('Time Series Prediction Example')\n",
    "plt.xlabel('Time Step')\n",
    "plt.ylabel('Value')\n",
    "plt.legend()\n",
    "plt.grid(True)\n",
    "plt.show()"
   ]
  },
  {
   "cell_type": "markdown",
   "metadata": {},
   "source": [
    "## Conclusion\n",
    "\n",
    "This notebook demonstrated how to use Ember ML's RNN modules, optimizers, and loss functions for a simple time series prediction task. By leveraging the backend-agnostic API, the same code can be executed on different computational backends. You can extend this example to more complex datasets and model architectures available in Ember ML."
   ]
  }
 ],
 "metadata": {
  "kernelspec": {
   "display_name": "base",
   "language": "python",
   "name": "python3"
  },
  "language_info": {
   "codemirror_mode": {
    "name": "ipython",
    "version": 3
   },
   "file_extension": ".py",
   "mimetype": "text/x-python",
   "name": "python",
   "nbconvert_exporter": "python",
   "pygments_lexer": "ipython3",
   "version": "3.12.2"
  }
 },
 "nbformat": 4,
 "nbformat_minor": 4
}
